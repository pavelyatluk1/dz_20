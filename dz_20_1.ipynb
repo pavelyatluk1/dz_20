{
 "cells": [
  {
   "cell_type": "markdown",
   "id": "a1f5c6a6",
   "metadata": {},
   "source": [
    "|  year   |  rank   |  company                         |  revenue   |  profit    |\n",
    "|  :---   | :---:   |  :---:                           |  :---:     |  ---:      |\n",
    "|  1955   |  229    |  Norton                          |  135.0     |  N.A.      |\n",
    "|  1955   |  291    |  Schlitz Brewing                 |  100.0     |  N.A.      |\n",
    "|  1955   |  295    |  Pacific Vegetable Oil           |  97.9      |  N.A.      |\n",
    "|  1955   |  297    |  Liebmann Breweries              |  96.0      |  N.A.      |\n",
    "|  1955   |  353    |  Minneapolis-Moline              |  77.4      |  N.A.      |  "
   ]
  }
 ],
 "metadata": {
  "kernelspec": {
   "display_name": "Python 3 (ipykernel)",
   "language": "python",
   "name": "python3"
  },
  "language_info": {
   "codemirror_mode": {
    "name": "ipython",
    "version": 3
   },
   "file_extension": ".py",
   "mimetype": "text/x-python",
   "name": "python",
   "nbconvert_exporter": "python",
   "pygments_lexer": "ipython3",
   "version": "3.10.8"
  }
 },
 "nbformat": 4,
 "nbformat_minor": 5
}
